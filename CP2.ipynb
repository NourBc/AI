{
  "nbformat": 4,
  "nbformat_minor": 0,
  "metadata": {
    "colab": {
      "name": "CP2.ipynb",
      "provenance": [],
      "collapsed_sections": []
    },
    "kernelspec": {
      "name": "python3",
      "display_name": "Python 3"
    },
    "language_info": {
      "name": "python"
    }
  },
  "cells": [
    {
      "cell_type": "code",
      "metadata": {
        "colab": {
          "base_uri": "https://localhost:8080/"
        },
        "id": "ITNJYHfxXKgm",
        "outputId": "8dd95a45-4e66-43b6-c8e7-5d3f13bc4d58"
      },
      "source": [
        "#Write a program that will find all numbers which are divisible by 7 but are not a multiple of 5, \n",
        "#between 2000 and 3200 (both included). The numbers obtained should be printed in a list\n",
        "#Hints: Consider using the range(#begin, #end) method.\n",
        "\n",
        "l=[]\n",
        "for x in range (2000,3200):\n",
        "  if x%7 == 0 and x%5 != 0 :\n",
        "    l.append(x)\n",
        "print(l)\n",
        "   "
      ],
      "execution_count": 66,
      "outputs": [
        {
          "output_type": "stream",
          "name": "stdout",
          "text": [
            "[2002, 2009, 2016, 2023, 2037, 2044, 2051, 2058, 2072, 2079, 2086, 2093, 2107, 2114, 2121, 2128, 2142, 2149, 2156, 2163, 2177, 2184, 2191, 2198, 2212, 2219, 2226, 2233, 2247, 2254, 2261, 2268, 2282, 2289, 2296, 2303, 2317, 2324, 2331, 2338, 2352, 2359, 2366, 2373, 2387, 2394, 2401, 2408, 2422, 2429, 2436, 2443, 2457, 2464, 2471, 2478, 2492, 2499, 2506, 2513, 2527, 2534, 2541, 2548, 2562, 2569, 2576, 2583, 2597, 2604, 2611, 2618, 2632, 2639, 2646, 2653, 2667, 2674, 2681, 2688, 2702, 2709, 2716, 2723, 2737, 2744, 2751, 2758, 2772, 2779, 2786, 2793, 2807, 2814, 2821, 2828, 2842, 2849, 2856, 2863, 2877, 2884, 2891, 2898, 2912, 2919, 2926, 2933, 2947, 2954, 2961, 2968, 2982, 2989, 2996, 3003, 3017, 3024, 3031, 3038, 3052, 3059, 3066, 3073, 3087, 3094, 3101, 3108, 3122, 3129, 3136, 3143, 3157, 3164, 3171, 3178, 3192, 3199]\n"
          ]
        }
      ]
    },
    {
      "cell_type": "code",
      "metadata": {
        "colab": {
          "base_uri": "https://localhost:8080/"
        },
        "id": "KrpHclLtcYV8",
        "outputId": "45410c20-f0c2-4e30-fe17-7e7b55d0034f"
      },
      "source": [
        "#Write a program that can compute the factorial of a given number. (the factorial of n is the product of all positive integers less than or equal to n). \n",
        " #for example factorial(5)= 5 x 4 x 3 x 2 x 1 the result is 120.  (i.e. factorial (0)=1)\n",
        " \n",
        "def factorial(n):\n",
        "    x = 1\n",
        "    for i in range(1, n + 1):\n",
        "        x = x*i\n",
        "    return x\n",
        "factorial(5)"
      ],
      "execution_count": 67,
      "outputs": [
        {
          "output_type": "execute_result",
          "data": {
            "text/plain": [
              "120"
            ]
          },
          "metadata": {},
          "execution_count": 67
        }
      ]
    },
    {
      "cell_type": "code",
      "metadata": {
        "colab": {
          "base_uri": "https://localhost:8080/"
        },
        "id": "X_NchaPDcdsn",
        "outputId": "21f7bd55-465b-4125-a678-4302ff867f88"
      },
      "source": [
        "#With a given integer number n, write a program to generate a dictionary that contains (i, i*i) such that is an integral number between 1 and n (both included).\n",
        "# and then the program should print the dictionary. Suppose the following input is supplied to the program: 8 Then, the output should be: \n",
        "#{1: 1, 2: 4, 3: 9, 4: 16, 5: 25, 6: 36, 7: 49, 8: 64}  \n",
        "def intg(n):\n",
        "  d=dict()\n",
        "  for i in range (1 , n+1):\n",
        "    d[i]=i*i\n",
        "  print(d)\n",
        "intg(8)\n"
      ],
      "execution_count": 87,
      "outputs": [
        {
          "output_type": "stream",
          "name": "stdout",
          "text": [
            "{1: 1, 2: 4, 3: 9, 4: 16, 5: 25, 6: 36, 7: 49, 8: 64}\n"
          ]
        }
      ]
    },
    {
      "cell_type": "code",
      "metadata": {
        "colab": {
          "base_uri": "https://localhost:8080/"
        },
        "id": "G_PEz92Ncd12",
        "outputId": "57359aa6-6237-4609-b373-f2a994907c82"
      },
      "source": [
        "#Given a non-empty string and an int n, return a new string where the char at index n has been removed. The value of n will be a valid index of a char in the original string (i.e. n will be in the range 0..len(str)-1 inclusive). \n",
        "\n",
        "#missing_char('kitten', 1) → 'ktten'    for example here we remove \"i\" which is located in the index 1\n",
        "\n",
        "#missing_char('kitten', 0) → 'itten'   here we remove \"k\" which is in the index 0\n",
        "\n",
        "#missing_char('kitten', 4) → 'kittn'   here we remove \"e\" which is in the index 4\n",
        "def missing_char(str, n):\n",
        "      p1 = str[:n] \n",
        "      p2 = str[n+1:]\n",
        "      return p1 + p2\n",
        "print(missing_char('kittens', 2))"
      ],
      "execution_count": 153,
      "outputs": [
        {
          "output_type": "stream",
          "name": "stdout",
          "text": [
            "kitens\n"
          ]
        }
      ]
    },
    {
      "cell_type": "code",
      "metadata": {
        "colab": {
          "base_uri": "https://localhost:8080/"
        },
        "id": "pSW22JfKcd5D",
        "outputId": "74140525-9ac0-41de-c65e-2e2a3f90892e"
      },
      "source": [
        "#Write a NumPy program to convert a NumPy array into a Python list structure.\n",
        "\n",
        "#Expected Output: \n",
        "\n",
        "#Original array elements: [[0 1] [2 3] [4 5]] \n",
        "\n",
        "#Array to list: [[0, 1], [2, 3], [4, 5]] \n",
        " \n",
        "\n",
        "#Hint: we can use the to_list() function to ensure the conversion.\n",
        "\n",
        "import numpy as np\n",
        "x= np.array ([1,2,3,4,5])\n",
        "l=x.tolist()\n",
        "print (l)\n",
        "type(l)"
      ],
      "execution_count": 128,
      "outputs": [
        {
          "output_type": "stream",
          "name": "stdout",
          "text": [
            "[1, 2, 3, 4, 5]\n"
          ]
        },
        {
          "output_type": "execute_result",
          "data": {
            "text/plain": [
              "list"
            ]
          },
          "metadata": {},
          "execution_count": 128
        }
      ]
    },
    {
      "cell_type": "code",
      "metadata": {
        "colab": {
          "base_uri": "https://localhost:8080/"
        },
        "id": "rEVj6ghKcd9f",
        "outputId": "f3515ae2-b604-42da-b8e4-d3bad57e0920"
      },
      "source": [
        "#Write a NumPy program to compute the covariance matrix of two given arrays. \n",
        "\n",
        "#Original array1: [0 1 2] \n",
        "\n",
        "#Original array2: [2 1 0] \n",
        "\n",
        "#Covariance matrix of the said arrays: [[ 1. -1.] [-1. 1.]]\n",
        " \n",
        "\n",
        "#Hint: We can use the np.cov() function to calculate the covariance between these two arrays\n",
        "\n",
        "import numpy as np\n",
        "arr1= np.array ([0,1,2])\n",
        "arr2 = np.array ([2, 1 ,0])\n",
        "c= np.cov(arr1,arr2)\n",
        "print(c)"
      ],
      "execution_count": 131,
      "outputs": [
        {
          "output_type": "stream",
          "name": "stdout",
          "text": [
            "[[ 1. -1.]\n",
            " [-1.  1.]]\n"
          ]
        }
      ]
    },
    {
      "cell_type": "code",
      "metadata": {
        "id": "ci8GLM2yZSNW"
      },
      "source": [
        "#Question: Write a program that calculates and prints the value according to the given formula: Q = Square root of [(2 * C * D)/H] \n",
        "\n",
        "#The following are the fixed values of C and H: C is 50. H is 30. \n",
        "\n",
        "#D is the variable whose values should be input into your program in a comma-separated sequence. (that means D contains more than value)\n",
        "\n",
        "#Example Let's assume the following comma-separated input sequence is given to the program: 100,150,180 The output of the program should be: 18,22,24 \n",
        "\n",
        "#To further explain this, we will obtain a result for each value of D:  Q1= Square root of [(2 * C * 100)/H] =18, Q2= Square root of [(2 * C * 150)/H] = 22 and Q3 = Square root of [(2 * C * 180)/H]  = 24\n",
        "\n",
        "#Hints: If the output received is in decimal form, it should be rounded off to its nearest value (for example, if the output received is 26.0, it should be printed as 26) In case of input data being supplied to the question, it should be assumed to be a console input.\n",
        "\n",
        "\n",
        "C=50\n",
        "H=30\n",
        "D=input(\"Enter numbers:\")\n",
        "D = D.split (',')\n",
        "l=[]\n",
        "for i in D:\n",
        "    Q = round(math.sqrt(2 * 50 * int(i) / 30))\n",
        "    l.append(Q)\n",
        "print (l)"
      ],
      "execution_count": null,
      "outputs": []
    },
    {
      "cell_type": "code",
      "metadata": {
        "id": "Ai6XACNy5fSE"
      },
      "source": [
        ""
      ],
      "execution_count": null,
      "outputs": []
    }
  ]
}